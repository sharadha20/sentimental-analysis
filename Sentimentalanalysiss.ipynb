{
  "nbformat": 4,
  "nbformat_minor": 0,
  "metadata": {
    "colab": {
      "provenance": []
    },
    "kernelspec": {
      "name": "python3",
      "display_name": "Python 3"
    },
    "language_info": {
      "name": "python"
    }
  },
  "cells": [
    {
      "cell_type": "code",
      "execution_count": 143,
      "metadata": {
        "colab": {
          "base_uri": "https://localhost:8080/"
        },
        "id": "H4qm2qAhHsKB",
        "outputId": "fef0a9c5-df40-406e-964d-a547a77a6561"
      },
      "outputs": [
        {
          "output_type": "stream",
          "name": "stderr",
          "text": [
            "[nltk_data] Downloading package punkt to /root/nltk_data...\n",
            "[nltk_data]   Package punkt is already up-to-date!\n",
            "[nltk_data] Downloading package stopwords to /root/nltk_data...\n",
            "[nltk_data]   Package stopwords is already up-to-date!\n",
            "[nltk_data] Downloading package wordnet to /root/nltk_data...\n",
            "[nltk_data]   Package wordnet is already up-to-date!\n",
            "[nltk_data] Downloading package omw-1.4 to /root/nltk_data...\n",
            "[nltk_data]   Package omw-1.4 is already up-to-date!\n"
          ]
        }
      ],
      "source": [
        "import nltk #importing all the necessary packages\n",
        "nltk.download('punkt')\n",
        "import pandas as pd\n",
        "import numpy as np\n",
        "import io\n",
        "import string\n",
        "string.punctuation\n",
        "nltk.download('stopwords')\n",
        "nltk.download('wordnet')\n",
        "nltk.download('omw-1.4')\n",
        "from nltk.corpus import stopwords\n",
        "lm = nltk.stem.wordnet.WordNetLemmatizer()\n",
        "ps=nltk.stem.porter.PorterStemmer()\n",
        "from nltk.tokenize import word_tokenize\n",
        "from collections import Counter\n"
      ]
    },
    {
      "cell_type": "code",
      "source": [
        "attributes=['result','comments']#naming the columns and reading the training data file\n",
        "dft = pd.read_csv('/content/1661892619_92027_train_file.csv',names=attributes)\n"
      ],
      "metadata": {
        "id": "3_8gqh9gILCW"
      },
      "execution_count": 144,
      "outputs": []
    },
    {
      "cell_type": "code",
      "source": [
        "def stemmer(txt):#stemming function\n",
        "  stem = [ps.stem(word) for word in txt]\n",
        "  return stem"
      ],
      "metadata": {
        "id": "Sf9UcjTHIhgK"
      },
      "execution_count": 145,
      "outputs": []
    },
    {
      "cell_type": "code",
      "source": [
        "def lemmatization(txt):#lemmatization function\n",
        "  lemma = [lm.lemmatize(word) for word in txt]\n",
        "  return lemma\n"
      ],
      "metadata": {
        "id": "OTgrmmhZIy-x"
      },
      "execution_count": 146,
      "outputs": []
    },
    {
      "cell_type": "code",
      "source": [
        "import matplotlib.pyplot as plt\n",
        "train_tot_count = dft.groupby(['result']).size()#counting and plotting the number of positive, negative values in training dataset\n",
        "print(train_tot_count)\n",
        "figs = plt.figure(figsize=(5,5), dpi=90)\n",
        "axes = plt.subplot(111)\n",
        "train_tot_count.plot.pie(ax=axes, autopct='%1.1f%%', startangle=270, fontsize=14, label=\"\")\n",
        "\n"
      ],
      "metadata": {
        "colab": {
          "base_uri": "https://localhost:8080/",
          "height": 461
        },
        "id": "fMLO9kYCIzY1",
        "outputId": "cd783745-e803-4f93-d578-07b1a75dc1a0"
      },
      "execution_count": 147,
      "outputs": [
        {
          "output_type": "stream",
          "name": "stdout",
          "text": [
            "result\n",
            "-1    9000\n",
            " 1    9000\n",
            "dtype: int64\n"
          ]
        },
        {
          "output_type": "execute_result",
          "data": {
            "text/plain": [
              "<matplotlib.axes._subplots.AxesSubplot at 0x7f88cd091ed0>"
            ]
          },
          "metadata": {},
          "execution_count": 147
        },
        {
          "output_type": "display_data",
          "data": {
            "text/plain": [
              "<Figure size 450x450 with 1 Axes>"
            ],
            "image/png": "[encoded data removed]"
          },
          "metadata": {}
        }
      ]
    },
    {
      "cell_type": "code",
      "source": [
        "def prepocessing_of_text(dft):#function to perform text processing\n",
        "  dft[\"comments\"]=dft[\"comments\"].replace(r'[0-9]','',regex=True)\n",
        "  dft[\"comments\"]=dft[\"comments\"].replace(r'[^\\w\\s]','',regex=True)\n",
        "  dft[\"comments\"]=dft[\"comments\"].apply(word_tokenize)\n",
        "  dft['comments']=dft['comments'].apply(lambda x: stemmer(x))\n",
        "  dft['comments']=dft['comments'].apply(lambda x:lemmatization(x))\n",
        " \n",
        "  \n",
        "  stop=set(stopwords.words('english'))\n",
        "  removed_stopwords=dft[\"comments\"].apply(lambda x: ' '.join([it for it in x if it not in stop]))\n",
        "  return removed_stopwords #returning after text processing \n",
        "\n"
      ],
      "metadata": {
        "id": "c8U0xFcXIzs8"
      },
      "execution_count": 148,
      "outputs": []
    },
    {
      "cell_type": "code",
      "source": [
        "from itertools import count#using count vectorization\n",
        "from sklearn.feature_extraction.text import CountVectorizer\n",
        "def make_vectors(content):\n",
        "  count_vect = CountVectorizer(max_features=8,ngram_range=(1,2))#choosing to take 8 common words\n",
        "  X_train_counts = count_vect.fit_transform(content)\n",
        "  return X_train_counts.toarray()\n",
        "\n"
      ],
      "metadata": {
        "id": "z7WPeFGcLViQ"
      },
      "execution_count": 149,
      "outputs": []
    },
    {
      "cell_type": "code",
      "source": [
        "def preprocess_of_raw_text(dft):\n",
        "  content_t =prepocessing_of_text(dft)\n",
        "  vectors_t = make_vectors(content_t)\n",
        "  return vectors_t\n"
      ],
      "metadata": {
        "id": "mpvN1XMrLVQc"
      },
      "execution_count": 150,
      "outputs": []
    },
    {
      "cell_type": "code",
      "source": [
        "\n",
        "def DistanceCalculation(a, b):#calculating the Euclidean distance\n",
        "    return np.sqrt(np.sum((a - b) ** 2))\n",
        "\n",
        "class KNN_Algorithm_Classifier:\n",
        "    def __init__(self, k=153):\n",
        "        self.k = k\n",
        "\n",
        "    def fit(self, X, y):\n",
        "        self.X_training_variable = X\n",
        "        self.y_training_varaiable = y\n",
        "\n",
        "    def predictor(self, X):\n",
        "        predicting_for_y = [self.computing_function(x) for x in X]\n",
        "        return np.array(predicting_for_y)\n",
        "\n",
        "    def computing_function(self, x):\n",
        "        \n",
        "        distances = [DistanceCalculation(x, training_X) for training_X in self.X_training_variable ] # Calculating the distance between testing data point and its neighbours\n",
        "        index_of_k = np.argsort(distances)[: self.k]#sorting according to values in distance calculation and storing them\n",
        "       \n",
        "        Kn_Labels = [self.y_training_varaiable[i] for i in index_of_k]#taking the features of k nearest neighbour\n",
        "        most_common = Counter(Kn_Labels).most_common(1)\n",
        "        return most_common[0][0] #returning the most commonly used values\n",
        "        \n"
      ],
      "metadata": {
        "id": "OgfTYQ6NLU-n"
      },
      "execution_count": 151,
      "outputs": []
    },
    {
      "cell_type": "code",
      "source": [
        "trainingvect = preprocess_of_raw_text(dft)"
      ],
      "metadata": {
        "id": "rBElSTakLUmR"
      },
      "execution_count": 152,
      "outputs": []
    },
    {
      "cell_type": "code",
      "source": [
        "import numpy as np\n",
        "import matplotlib.pyplot as plt\n",
        "np.random.seed(7)\n",
        "def main(vectors):\n",
        "  k=153\n",
        "  n = KNN_Algorithm_Classifier(k=k)#calling the KNN algorithm\n",
        "  n.fit(vectors,dft[\"result\"])\n",
        "  return n\n"
      ],
      "metadata": {
        "id": "KcqTcZ5bOgPk"
      },
      "execution_count": 153,
      "outputs": []
    },
    {
      "cell_type": "code",
      "source": [
        "n = main(trainingvect[:])"
      ],
      "metadata": {
        "id": "GF3gWfrROiC4"
      },
      "execution_count": 154,
      "outputs": []
    },
    {
      "cell_type": "code",
      "source": [
        "attributes=['comments']#naming the testing data that contains set of reviews and reading the testing data\n",
        "test_dft = pd.read_csv('/content/1661892619_9579706_test_file.csv',names=attributes)\n",
        "\n"
      ],
      "metadata": {
        "id": "WBm83jlAQHZX"
      },
      "execution_count": 155,
      "outputs": []
    },
    {
      "cell_type": "code",
      "source": [
        "testingvect= preprocess_of_raw_text(test_dft)\n"
      ],
      "metadata": {
        "id": "Qz4qg9nAQG4_"
      },
      "execution_count": 156,
      "outputs": []
    },
    {
      "cell_type": "code",
      "source": [
        "answers = n.predictor(testingvect[:])#Performing the KNN algorithm for testing data\n",
        "print(answers)\n",
        "np.savetxt('format.txt', answers, delimiter=',')#Saving the predictions of testing data\n"
      ],
      "metadata": {
        "colab": {
          "base_uri": "https://localhost:8080/"
        },
        "id": "vKyc56bMQGrS",
        "outputId": "f3748c0b-a777-4bbb-b27c-7de32704fff9"
      },
      "execution_count": 157,
      "outputs": [
        {
          "output_type": "stream",
          "name": "stdout",
          "text": [
            "[-1  1  1 ... -1  1  1]\n"
          ]
        }
      ]
    },
    {
      "cell_type": "code",
      "source": [
        "dftr=pd.DataFrame(answers)#saving in pandas dataframe\n",
        "total_count = dftr.groupby([answers]).size()#counting the number of positive negative reviews\n",
        "print(total_count)\n",
        "figs = plt.figure(figsize=(5,5), dpi=90)\n",
        "axes = plt.subplot(111)\n",
        "total_count.plot.pie(ax=axes, autopct='%1.1f%%', startangle=270, fontsize=14, label=\"\")#getting the percentage of number of positive and negative reviews\n"
      ],
      "metadata": {
        "colab": {
          "base_uri": "https://localhost:8080/",
          "height": 443
        },
        "id": "CufApeKWQGC_",
        "outputId": "e3546133-3407-4f4b-c237-bde8ae1fc9f5"
      },
      "execution_count": 159,
      "outputs": [
        {
          "output_type": "stream",
          "name": "stdout",
          "text": [
            "-1    9266\n",
            " 1    8734\n",
            "dtype: int64\n"
          ]
        },
        {
          "output_type": "execute_result",
          "data": {
            "text/plain": [
              "<matplotlib.axes._subplots.AxesSubplot at 0x7f88dfc4b190>"
            ]
          },
          "metadata": {},
          "execution_count": 159
        },
        {
          "output_type": "display_data",
          "data": {
            "text/plain": [
              "<Figure size 450x450 with 1 Axes>"
            ],
            "image/png": "[encoded data removed]"
          },
          "metadata": {}
        }
      ]
    },
    {
      "cell_type": "code",
      "source": [],
      "metadata": {
        "id": "bDsTCUXEPcgo"
      },
      "execution_count": 157,
      "outputs": []
    }
  ]
}